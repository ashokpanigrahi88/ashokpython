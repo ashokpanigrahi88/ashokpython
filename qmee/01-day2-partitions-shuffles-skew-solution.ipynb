{
 "cells": [
  {
   "cell_type": "markdown",
   "metadata": {},
   "source": [
    "# Spark UI and Data skewness\n",
    "\n",
    "It is very important to understand how data transformations get executed in Spark in order to interpret the Spark User Interface. \n",
    "\n",
    "### Partitions\n",
    "\n",
    "Data is seperated into partitions to fit in a cluster of network computers. Transformations usually get executed on partition level. Some tranformations such as `map`, `filter` do not change the partition structure where as some transformations such as `reduceByKey`, `reduce`, `join` change the partition structure through a `shuffle`."
   ]
  },
  {
   "cell_type": "code",
   "execution_count": null,
   "metadata": {
    "collapsed": true
   },
   "outputs": [],
   "source": [
    "import pyspark\n",
    "from pyspark.sql import SparkSession\n",
    "spark = SparkSession.builder.getOrCreate() \n",
    "spark"
   ]
  },
  {
   "cell_type": "code",
   "execution_count": null,
   "metadata": {
    "collapsed": true
   },
   "outputs": [],
   "source": [
    "num = 5\n",
    "\n",
    "partition_data = []\n",
    "\n",
    "for i in range(0, num):\n",
    "    for j in range(0, i):\n",
    "        partition_data.append((i, j))\n",
    "\n",
    "print(partition_data)"
   ]
  },
  {
   "cell_type": "code",
   "execution_count": null,
   "metadata": {
    "collapsed": true
   },
   "outputs": [],
   "source": [
    "partition_rdd = spark.sparkContext.parallelize(partition_data, 2)\n",
    "partition_rdd.getNumPartitions()"
   ]
  },
  {
   "cell_type": "markdown",
   "metadata": {},
   "source": [
    "We use the following python function to print the partition structure of data in a way we can understand what data is in each partition"
   ]
  },
  {
   "cell_type": "code",
   "execution_count": null,
   "metadata": {
    "collapsed": true
   },
   "outputs": [],
   "source": [
    "def to_human_readable(rdd_obj):\n",
    "    partition_view = rdd_obj.mapPartitions(lambda l: [l]).map(list).collect()\n",
    "\n",
    "    for partition in partition_view:\n",
    "        print(partition)"
   ]
  },
  {
   "cell_type": "code",
   "execution_count": null,
   "metadata": {
    "collapsed": true
   },
   "outputs": [],
   "source": [
    "to_human_readable(partition_rdd)"
   ]
  },
  {
   "cell_type": "markdown",
   "metadata": {},
   "source": [
    "#### maps and filters"
   ]
  },
  {
   "cell_type": "code",
   "execution_count": null,
   "metadata": {
    "collapsed": true
   },
   "outputs": [],
   "source": [
    "filtered_rdd = partition_rdd.filter(lambda pair: pair[0] % 2 == 0)\n",
    "# filtered_rdd.count()\n",
    "to_human_readable(filtered_rdd)"
   ]
  },
  {
   "cell_type": "markdown",
   "metadata": {},
   "source": [
    "### Shuffles\n",
    "To access the Spark UI go to http://localhost:4040"
   ]
  },
  {
   "cell_type": "code",
   "execution_count": null,
   "metadata": {
    "collapsed": true
   },
   "outputs": [],
   "source": [
    "reduced_rdd = partition_rdd.reduceByKey(lambda a, b: a + b, numPartitions=5)\n",
    "reduced_rdd.count()\n",
    "to_human_readable(reduced_rdd)"
   ]
  },
  {
   "cell_type": "markdown",
   "metadata": {},
   "source": [
    "### Data Skew\n",
    "\n",
    "Data skewness is one of the common problems with Big Data. Having skewed data can affect both the computation cost and the stability of the cluster.\n",
    " \n",
    "To understand skew, first lets created a normal dataset where keys are distributed uniformly. "
   ]
  },
  {
   "cell_type": "code",
   "execution_count": null,
   "metadata": {
    "collapsed": true
   },
   "outputs": [],
   "source": [
    "num = 1000\n",
    "\n",
    "data = []\n",
    "\n",
    "for i in range(0, num):\n",
    "    for j in range(0, i):\n",
    "        data.append((i, j))\n",
    "\n",
    "len(data)"
   ]
  },
  {
   "cell_type": "markdown",
   "metadata": {},
   "source": [
    "Now, we introduce a skewed key to this dataset. "
   ]
  },
  {
   "cell_type": "code",
   "execution_count": null,
   "metadata": {
    "collapsed": true
   },
   "outputs": [],
   "source": [
    "big_num = 1000000\n",
    "\n",
    "skew_data = data\n",
    "\n",
    "for i in range(0, big_num):\n",
    "    skew_data.append((big_num, i))\n",
    "\n",
    "len(skew_data)"
   ]
  },
  {
   "cell_type": "markdown",
   "metadata": {},
   "source": [
    "We can now load this data to a spark RDD and run a shuffle (`groupByKey()`) to see how the skew affects the computation resources."
   ]
  },
  {
   "cell_type": "code",
   "execution_count": null,
   "metadata": {
    "collapsed": true
   },
   "outputs": [],
   "source": [
    "dataset = skew_data\n",
    "\n",
    "rdd = spark.sparkContext.parallelize(dataset)\n",
    "rdd.getNumPartitions()"
   ]
  },
  {
   "cell_type": "code",
   "execution_count": null,
   "metadata": {
    "collapsed": true
   },
   "outputs": [],
   "source": [
    "grouped_rdd = rdd.groupByKey().cache()\n",
    "mapped_rdd = grouped_rdd.map(lambda pair: (pair[0], [(i + 10) for i in pair[1]]))\n",
    "mapped_rdd.count()"
   ]
  }
 ],
 "metadata": {
  "kernelspec": {
   "display_name": "Python 3",
   "language": "python",
   "name": "python3"
  },
  "language_info": {
   "codemirror_mode": {
    "name": "ipython",
    "version": 3
   },
   "file_extension": ".py",
   "mimetype": "text/x-python",
   "name": "python",
   "nbconvert_exporter": "python",
   "pygments_lexer": "ipython3",
   "version": "3.7.5"
  }
 },
 "nbformat": 4,
 "nbformat_minor": 2
}
